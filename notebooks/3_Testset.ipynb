{
 "cells": [
  {
   "cell_type": "code",
   "execution_count": 1,
   "id": "85357871-bb03-429f-a57b-ea6f94708e79",
   "metadata": {},
   "outputs": [],
   "source": [
    "# Dans le notebook \"Trainset\"\n",
    "import os\n",
    "import sys\n",
    "sys.path.append('../src')\n",
    "from config import DATA_FOLDER, RAW_FOLDER, INTERIM_FOLDER, PROCESSED_FOLDER, MODEL_FOLDER, LIB_TIMESERIES_CSV_FOLDER, TRAIN_FOLDER, TEST_FOLDER\n",
    "from data_processing import process_files_in_folder\n",
    "from data_concatenation import concatenate_and_save_csv\n",
    "from feature_extraction import prepare_data_and_extract_features,extract_features_ts_fresh, extract_features_featuretools, extract_features_tsfel\n",
    "from model_training import train_and_evaluate_all_models\n",
    "from model_testing import evaluate_models_on_csv\n",
    "\n",
    "\n"
   ]
  },
  {
   "cell_type": "code",
   "execution_count": 2,
   "id": "b21c5a81-0657-49a4-822d-6df576725846",
   "metadata": {},
   "outputs": [
    {
     "name": "stdout",
     "output_type": "stream",
     "text": [
      "Recherche de fichiers à supprimer dans : ..\\data\\processed\n",
      "Suppression de l'ancien fichier généré : 18_unhealthy_envelop.csv\n",
      "Suppression de l'ancien fichier généré : 19_unhealthy_envelop.csv\n",
      "Suppression de l'ancien fichier généré : 1_healthy_envelop.csv\n",
      "Suppression de l'ancien fichier généré : 20_unhealthy_envelop.csv\n",
      "Suppression de l'ancien fichier généré : 22_unhealthy_envelop.csv\n",
      "Suppression de l'ancien fichier généré : 2_healthy_envelop.csv\n",
      "Suppression de l'ancien fichier généré : 3_healthy_envelop.csv\n",
      "Suppression de l'ancien fichier généré : 4_healthy_envelop.csv\n",
      "Suppression de l'ancien fichier généré : 4_unhealthy_envelop.csv\n",
      "Suppression de l'ancien fichier généré : 5_healthy_envelop.csv\n",
      "Suppression de l'ancien fichier généré : 6_unhealthy_envelop.csv\n",
      "Traitement des nouveaux fichiers dans : ..\\data\\interim\\Test\n"
     ]
    },
    {
     "name": "stderr",
     "output_type": "stream",
     "text": [
      "C:\\Users\\Firas\\.venvs\\P3\\lib\\site-packages\\scipy\\signal\\_spectral_py.py:1870: UserWarning: Input data is complex, switching to return_onesided=False\n",
      "  warnings.warn('Input data is complex, switching to '\n"
     ]
    },
    {
     "name": "stdout",
     "output_type": "stream",
     "text": [
      "Enveloppe enregistrée dans ..\\data\\processed\\11_healthy_envelop.csv\n"
     ]
    },
    {
     "name": "stderr",
     "output_type": "stream",
     "text": [
      "C:\\Users\\Firas\\.venvs\\P3\\lib\\site-packages\\scipy\\signal\\_spectral_py.py:1870: UserWarning: Input data is complex, switching to return_onesided=False\n",
      "  warnings.warn('Input data is complex, switching to '\n"
     ]
    },
    {
     "name": "stdout",
     "output_type": "stream",
     "text": [
      "Enveloppe enregistrée dans ..\\data\\processed\\15_healthy_envelop.csv\n"
     ]
    },
    {
     "name": "stderr",
     "output_type": "stream",
     "text": [
      "C:\\Users\\Firas\\.venvs\\P3\\lib\\site-packages\\scipy\\signal\\_spectral_py.py:1870: UserWarning: Input data is complex, switching to return_onesided=False\n",
      "  warnings.warn('Input data is complex, switching to '\n"
     ]
    },
    {
     "name": "stdout",
     "output_type": "stream",
     "text": [
      "Enveloppe enregistrée dans ..\\data\\processed\\7_healthy_envelop.csv\n"
     ]
    },
    {
     "name": "stderr",
     "output_type": "stream",
     "text": [
      "C:\\Users\\Firas\\.venvs\\P3\\lib\\site-packages\\scipy\\signal\\_spectral_py.py:1870: UserWarning: Input data is complex, switching to return_onesided=False\n",
      "  warnings.warn('Input data is complex, switching to '\n"
     ]
    },
    {
     "name": "stdout",
     "output_type": "stream",
     "text": [
      "Enveloppe enregistrée dans ..\\data\\processed\\11_unhealthy_envelop.csv\n"
     ]
    },
    {
     "name": "stderr",
     "output_type": "stream",
     "text": [
      "C:\\Users\\Firas\\.venvs\\P3\\lib\\site-packages\\scipy\\signal\\_spectral_py.py:1870: UserWarning: Input data is complex, switching to return_onesided=False\n",
      "  warnings.warn('Input data is complex, switching to '\n"
     ]
    },
    {
     "name": "stdout",
     "output_type": "stream",
     "text": [
      "Enveloppe enregistrée dans ..\\data\\processed\\13_unhealthy_envelop.csv\n"
     ]
    },
    {
     "name": "stderr",
     "output_type": "stream",
     "text": [
      "C:\\Users\\Firas\\.venvs\\P3\\lib\\site-packages\\scipy\\signal\\_spectral_py.py:1870: UserWarning: Input data is complex, switching to return_onesided=False\n",
      "  warnings.warn('Input data is complex, switching to '\n"
     ]
    },
    {
     "name": "stdout",
     "output_type": "stream",
     "text": [
      "Enveloppe enregistrée dans ..\\data\\processed\\14_unhealthy_envelop.csv\n"
     ]
    },
    {
     "name": "stderr",
     "output_type": "stream",
     "text": [
      "C:\\Users\\Firas\\.venvs\\P3\\lib\\site-packages\\scipy\\signal\\_spectral_py.py:1870: UserWarning: Input data is complex, switching to return_onesided=False\n",
      "  warnings.warn('Input data is complex, switching to '\n"
     ]
    },
    {
     "name": "stdout",
     "output_type": "stream",
     "text": [
      "Enveloppe enregistrée dans ..\\data\\processed\\16_unhealthy_envelop.csv\n"
     ]
    },
    {
     "name": "stderr",
     "output_type": "stream",
     "text": [
      "C:\\Users\\Firas\\.venvs\\P3\\lib\\site-packages\\scipy\\signal\\_spectral_py.py:1870: UserWarning: Input data is complex, switching to return_onesided=False\n",
      "  warnings.warn('Input data is complex, switching to '\n"
     ]
    },
    {
     "name": "stdout",
     "output_type": "stream",
     "text": [
      "Enveloppe enregistrée dans ..\\data\\processed\\21_unhealthy_envelop.csv\n"
     ]
    },
    {
     "name": "stderr",
     "output_type": "stream",
     "text": [
      "C:\\Users\\Firas\\.venvs\\P3\\lib\\site-packages\\scipy\\signal\\_spectral_py.py:1870: UserWarning: Input data is complex, switching to return_onesided=False\n",
      "  warnings.warn('Input data is complex, switching to '\n"
     ]
    },
    {
     "name": "stdout",
     "output_type": "stream",
     "text": [
      "Enveloppe enregistrée dans ..\\data\\processed\\5_unhealthy_envelop.csv\n",
      "Le DataFrame global a été enregistré dans ..\\data\\processed\\all_envelopes.csv\n"
     ]
    }
   ],
   "source": [
    "# Génération des enveloppes csv dans PROCESSED_FOLDER grâce aux données de TEST \n",
    "# concaténation des fichiers csv\n",
    "process_files_in_folder(TEST_FOLDER, \".txt\")\n",
    "output_file_global = os.path.join(PROCESSED_FOLDER, \"all_envelopes.csv\")\n",
    "concatenate_and_save_csv(PROCESSED_FOLDER, \"_envelop.csv\", output_file_global)"
   ]
  },
  {
   "cell_type": "code",
   "execution_count": 3,
   "id": "707b32df-176e-45be-8292-e5241a9103bb",
   "metadata": {},
   "outputs": [
    {
     "name": "stderr",
     "output_type": "stream",
     "text": [
      "Feature Extraction: 100%|████████████████████████████████████████████████████████████████| 9/9 [00:00<00:00, 88.25it/s]\n",
      "C:\\Users\\Firas\\.venvs\\P3\\lib\\site-packages\\featuretools\\entityset\\entityset.py:1910: UserWarning: index index not found in dataframe, creating new integer column\n",
      "  warnings.warn(\n"
     ]
    },
    {
     "name": "stdout",
     "output_type": "stream",
     "text": [
      "\n",
      "Résultat pour TS-Fresh:\n",
      "               envelope_value__sum_values  envelope_value__median  \\\n",
      "11_healthy                  27800.125195                0.622689   \n",
      "11_unhealthy                77486.606136                0.616945   \n",
      "13_unhealthy                59083.828911                0.532192   \n",
      "14_unhealthy                87612.691937                0.463336   \n",
      "15_healthy                  82283.067784                0.690400   \n",
      "\n",
      "              envelope_value__mean  envelope_value__length  \\\n",
      "11_healthy                0.617767                 45001.0   \n",
      "11_unhealthy              0.613877                126225.0   \n",
      "13_unhealthy              0.528889                111713.0   \n",
      "14_unhealthy              0.455716                192253.0   \n",
      "15_healthy                0.691379                119013.0   \n",
      "\n",
      "              envelope_value__standard_deviation  envelope_value__variance  \\\n",
      "11_healthy                              0.041171                  0.001695   \n",
      "11_unhealthy                            0.030741                  0.000945   \n",
      "13_unhealthy                            0.053846                  0.002899   \n",
      "14_unhealthy                            0.053628                  0.002876   \n",
      "15_healthy                              0.020165                  0.000407   \n",
      "\n",
      "              envelope_value__root_mean_square  envelope_value__maximum  \\\n",
      "11_healthy                            0.619137                 0.923861   \n",
      "11_unhealthy                          0.614646                 0.938913   \n",
      "13_unhealthy                          0.531623                 0.996868   \n",
      "14_unhealthy                          0.458860                 0.971902   \n",
      "15_healthy                            0.691673                 0.966020   \n",
      "\n",
      "              envelope_value__absolute_maximum  envelope_value__minimum  \\\n",
      "11_healthy                            0.923861                 0.459643   \n",
      "11_unhealthy                          0.938913                 0.471710   \n",
      "13_unhealthy                          0.996868                 0.332336   \n",
      "14_unhealthy                          0.971902                 0.304572   \n",
      "15_healthy                            0.966020                 0.629351   \n",
      "\n",
      "                 Status  \n",
      "11_healthy      Healthy  \n",
      "11_unhealthy  Unhealthy  \n",
      "13_unhealthy  Unhealthy  \n",
      "14_unhealthy  Unhealthy  \n",
      "15_healthy      Healthy  \n"
     ]
    },
    {
     "name": "stderr",
     "output_type": "stream",
     "text": [
      "C:\\Users\\Firas\\.venvs\\P3\\lib\\site-packages\\woodwork\\type_sys\\inference_functions.py:27: FutureWarning: is_categorical_dtype is deprecated and will be removed in a future version. Use isinstance(dtype, CategoricalDtype) instead\n",
      "  if pdtypes.is_categorical_dtype(series.dtype):\n",
      "C:\\Users\\Firas\\.venvs\\P3\\lib\\site-packages\\woodwork\\type_sys\\inference_functions.py:189: FutureWarning: is_categorical_dtype is deprecated and will be removed in a future version. Use isinstance(dtype, CategoricalDtype) instead\n",
      "  pdtypes.is_categorical_dtype(series.dtype)\n",
      "C:\\Users\\Firas\\.venvs\\P3\\lib\\site-packages\\woodwork\\type_sys\\inference_functions.py:27: FutureWarning: is_categorical_dtype is deprecated and will be removed in a future version. Use isinstance(dtype, CategoricalDtype) instead\n",
      "  if pdtypes.is_categorical_dtype(series.dtype):\n",
      "C:\\Users\\Firas\\.venvs\\P3\\lib\\site-packages\\woodwork\\type_sys\\inference_functions.py:189: FutureWarning: is_categorical_dtype is deprecated and will be removed in a future version. Use isinstance(dtype, CategoricalDtype) instead\n",
      "  pdtypes.is_categorical_dtype(series.dtype)\n",
      "C:\\Users\\Firas\\.venvs\\P3\\lib\\site-packages\\woodwork\\type_sys\\inference_functions.py:189: FutureWarning: is_categorical_dtype is deprecated and will be removed in a future version. Use isinstance(dtype, CategoricalDtype) instead\n",
      "  pdtypes.is_categorical_dtype(series.dtype)\n",
      "C:\\Users\\Firas\\.venvs\\P3\\lib\\site-packages\\woodwork\\type_sys\\inference_functions.py:27: FutureWarning: is_categorical_dtype is deprecated and will be removed in a future version. Use isinstance(dtype, CategoricalDtype) instead\n",
      "  if pdtypes.is_categorical_dtype(series.dtype):\n",
      "C:\\Users\\Firas\\.venvs\\P3\\lib\\site-packages\\woodwork\\type_sys\\utils.py:40: UserWarning: The argument 'infer_datetime_format' is deprecated and will be removed in a future version. A strict version of it is now the default, see https://pandas.pydata.org/pdeps/0004-consistent-to-datetime-parsing.html. You can safely remove this argument.\n",
      "  pd.to_datetime(\n",
      "C:\\Users\\Firas\\.venvs\\P3\\lib\\site-packages\\woodwork\\type_sys\\utils.py:40: UserWarning: Could not infer format, so each element will be parsed individually, falling back to `dateutil`. To ensure parsing is consistent and as-expected, please specify a format.\n",
      "  pd.to_datetime(\n",
      "C:\\Users\\Firas\\.venvs\\P3\\lib\\site-packages\\woodwork\\type_sys\\utils.py:40: UserWarning: The argument 'infer_datetime_format' is deprecated and will be removed in a future version. A strict version of it is now the default, see https://pandas.pydata.org/pdeps/0004-consistent-to-datetime-parsing.html. You can safely remove this argument.\n",
      "  pd.to_datetime(\n",
      "C:\\Users\\Firas\\.venvs\\P3\\lib\\site-packages\\woodwork\\type_sys\\utils.py:40: UserWarning: Could not infer format, so each element will be parsed individually, falling back to `dateutil`. To ensure parsing is consistent and as-expected, please specify a format.\n",
      "  pd.to_datetime(\n",
      "C:\\Users\\Firas\\.venvs\\P3\\lib\\site-packages\\woodwork\\type_sys\\inference_functions.py:189: FutureWarning: is_categorical_dtype is deprecated and will be removed in a future version. Use isinstance(dtype, CategoricalDtype) instead\n",
      "  pdtypes.is_categorical_dtype(series.dtype)\n",
      "C:\\Users\\Firas\\.venvs\\P3\\lib\\site-packages\\woodwork\\type_sys\\inference_functions.py:27: FutureWarning: is_categorical_dtype is deprecated and will be removed in a future version. Use isinstance(dtype, CategoricalDtype) instead\n",
      "  if pdtypes.is_categorical_dtype(series.dtype):\n",
      "C:\\Users\\Firas\\.venvs\\P3\\lib\\site-packages\\woodwork\\type_sys\\utils.py:40: UserWarning: The argument 'infer_datetime_format' is deprecated and will be removed in a future version. A strict version of it is now the default, see https://pandas.pydata.org/pdeps/0004-consistent-to-datetime-parsing.html. You can safely remove this argument.\n",
      "  pd.to_datetime(\n",
      "C:\\Users\\Firas\\.venvs\\P3\\lib\\site-packages\\woodwork\\type_sys\\utils.py:40: UserWarning: Could not infer format, so each element will be parsed individually, falling back to `dateutil`. To ensure parsing is consistent and as-expected, please specify a format.\n",
      "  pd.to_datetime(\n",
      "C:\\Users\\Firas\\.venvs\\P3\\lib\\site-packages\\woodwork\\type_sys\\utils.py:40: UserWarning: The argument 'infer_datetime_format' is deprecated and will be removed in a future version. A strict version of it is now the default, see https://pandas.pydata.org/pdeps/0004-consistent-to-datetime-parsing.html. You can safely remove this argument.\n",
      "  pd.to_datetime(\n",
      "C:\\Users\\Firas\\.venvs\\P3\\lib\\site-packages\\woodwork\\type_sys\\utils.py:40: UserWarning: Could not infer format, so each element will be parsed individually, falling back to `dateutil`. To ensure parsing is consistent and as-expected, please specify a format.\n",
      "  pd.to_datetime(\n",
      "C:\\Users\\Firas\\.venvs\\P3\\lib\\site-packages\\woodwork\\type_sys\\inference_functions.py:189: FutureWarning: is_categorical_dtype is deprecated and will be removed in a future version. Use isinstance(dtype, CategoricalDtype) instead\n",
      "  pdtypes.is_categorical_dtype(series.dtype)\n"
     ]
    },
    {
     "name": "stdout",
     "output_type": "stream",
     "text": [
      "Built 22 features\n",
      "Elapsed: 00:00 | Progress:  95%|██████████████████████████████████████████████████████████████████████████████████▋    "
     ]
    },
    {
     "name": "stderr",
     "output_type": "stream",
     "text": [
      "C:\\Users\\Firas\\.venvs\\P3\\lib\\site-packages\\featuretools\\computational_backends\\feature_set_calculator.py:829: FutureWarning: The provided callable <function amin at 0x000001C47F844F70> is currently using SeriesGroupBy.min. In a future version of pandas, the provided callable will be used directly. To keep current behavior pass the string \"min\" instead.\n",
      "  ).agg(to_agg)\n",
      "C:\\Users\\Firas\\.venvs\\P3\\lib\\site-packages\\featuretools\\computational_backends\\feature_set_calculator.py:829: FutureWarning: The provided callable <function var at 0x000001C47F845CF0> is currently using SeriesGroupBy.var. In a future version of pandas, the provided callable will be used directly. To keep current behavior pass the string \"var\" instead.\n",
      "  ).agg(to_agg)\n",
      "C:\\Users\\Firas\\.venvs\\P3\\lib\\site-packages\\featuretools\\computational_backends\\feature_set_calculator.py:829: FutureWarning: The provided callable <function amax at 0x000001C47F844DC0> is currently using SeriesGroupBy.max. In a future version of pandas, the provided callable will be used directly. To keep current behavior pass the string \"max\" instead.\n",
      "  ).agg(to_agg)\n",
      "C:\\Users\\Firas\\.venvs\\P3\\lib\\site-packages\\featuretools\\computational_backends\\feature_set_calculator.py:829: FutureWarning: The provided callable <function mean at 0x000001C47F845990> is currently using SeriesGroupBy.mean. In a future version of pandas, the provided callable will be used directly. To keep current behavior pass the string \"mean\" instead.\n",
      "  ).agg(to_agg)\n",
      "C:\\Users\\Firas\\.venvs\\P3\\lib\\site-packages\\featuretools\\computational_backends\\feature_set_calculator.py:829: FutureWarning: The provided callable <function sum at 0x000001C47F844550> is currently using SeriesGroupBy.sum. In a future version of pandas, the provided callable will be used directly. To keep current behavior pass the string \"sum\" instead.\n",
      "  ).agg(to_agg)\n",
      "C:\\Users\\Firas\\.venvs\\P3\\lib\\site-packages\\featuretools\\computational_backends\\feature_set_calculator.py:829: FutureWarning: The provided callable <function std at 0x000001C47F845B40> is currently using SeriesGroupBy.std. In a future version of pandas, the provided callable will be used directly. To keep current behavior pass the string \"std\" instead.\n",
      "  ).agg(to_agg)\n",
      "C:\\Users\\Firas\\.venvs\\P3\\lib\\site-packages\\featuretools\\computational_backends\\feature_set_calculator.py:829: FutureWarning: The provided callable <function amin at 0x000001C47F844F70> is currently using SeriesGroupBy.min. In a future version of pandas, the provided callable will be used directly. To keep current behavior pass the string \"min\" instead.\n",
      "  ).agg(to_agg)\n",
      "C:\\Users\\Firas\\.venvs\\P3\\lib\\site-packages\\featuretools\\computational_backends\\feature_set_calculator.py:829: FutureWarning: The provided callable <function amax at 0x000001C47F844DC0> is currently using SeriesGroupBy.max. In a future version of pandas, the provided callable will be used directly. To keep current behavior pass the string \"max\" instead.\n",
      "  ).agg(to_agg)\n",
      "C:\\Users\\Firas\\.venvs\\P3\\lib\\site-packages\\featuretools\\computational_backends\\feature_set_calculator.py:829: FutureWarning: The provided callable <function std at 0x000001C47F845B40> is currently using SeriesGroupBy.std. In a future version of pandas, the provided callable will be used directly. To keep current behavior pass the string \"std\" instead.\n",
      "  ).agg(to_agg)\n",
      "C:\\Users\\Firas\\.venvs\\P3\\lib\\site-packages\\featuretools\\computational_backends\\feature_set_calculator.py:829: FutureWarning: The provided callable <function var at 0x000001C47F845CF0> is currently using SeriesGroupBy.var. In a future version of pandas, the provided callable will be used directly. To keep current behavior pass the string \"var\" instead.\n",
      "  ).agg(to_agg)\n",
      "C:\\Users\\Firas\\.venvs\\P3\\lib\\site-packages\\featuretools\\computational_backends\\feature_set_calculator.py:829: FutureWarning: The provided callable <function sum at 0x000001C47F844550> is currently using SeriesGroupBy.sum. In a future version of pandas, the provided callable will be used directly. To keep current behavior pass the string \"sum\" instead.\n",
      "  ).agg(to_agg)\n",
      "C:\\Users\\Firas\\.venvs\\P3\\lib\\site-packages\\featuretools\\computational_backends\\feature_set_calculator.py:829: FutureWarning: The provided callable <function mean at 0x000001C47F845990> is currently using SeriesGroupBy.mean. In a future version of pandas, the provided callable will be used directly. To keep current behavior pass the string \"mean\" instead.\n",
      "  ).agg(to_agg)\n",
      "C:\\Users\\Firas\\.venvs\\P3\\lib\\site-packages\\featuretools\\computational_backends\\feature_set_calculator.py:839: FutureWarning: is_categorical_dtype is deprecated and will be removed in a future version. Use isinstance(dtype, CategoricalDtype) instead\n",
      "  if pdtypes.is_categorical_dtype(frame.index):\n"
     ]
    },
    {
     "name": "stdout",
     "output_type": "stream",
     "text": [
      "Elapsed: 00:00 | Progress: 100%|███████████████████████████████████████████████████████████████████████████████████████\n",
      "\n",
      "Résultat pour Featuretools:\n",
      "               COUNT(data)  MAX(data.envelope_value)  MAX(data.numero_patient)  \\\n",
      "ID_State                                                                        \n",
      "11_healthy          45001                  0.923861                      11.0   \n",
      "11_unhealthy       126225                  0.938913                      11.0   \n",
      "13_unhealthy       111713                  0.996868                      13.0   \n",
      "14_unhealthy       192253                  0.971902                      14.0   \n",
      "15_healthy         119013                  0.966020                      15.0   \n",
      "\n",
      "              MEAN(data.envelope_value)  MEAN(data.numero_patient)  \\\n",
      "ID_State                                                             \n",
      "11_healthy                     0.617767                       11.0   \n",
      "11_unhealthy                   0.613877                       11.0   \n",
      "13_unhealthy                   0.528889                       13.0   \n",
      "14_unhealthy                   0.455716                       14.0   \n",
      "15_healthy                     0.691379                       15.0   \n",
      "\n",
      "              MEDIAN(data.envelope_value)  MEDIAN(data.numero_patient)  \\\n",
      "ID_State                                                                 \n",
      "11_healthy                       0.622689                         11.0   \n",
      "11_unhealthy                     0.616945                         11.0   \n",
      "13_unhealthy                     0.532192                         13.0   \n",
      "14_unhealthy                     0.463336                         14.0   \n",
      "15_healthy                       0.690400                         15.0   \n",
      "\n",
      "              MIN(data.envelope_value)  MIN(data.numero_patient)  \\\n",
      "ID_State                                                           \n",
      "11_healthy                    0.459643                      11.0   \n",
      "11_unhealthy                  0.471710                      11.0   \n",
      "13_unhealthy                  0.332336                      13.0   \n",
      "14_unhealthy                  0.304572                      14.0   \n",
      "15_healthy                    0.629351                      15.0   \n",
      "\n",
      "              SKEW(data.envelope_value)  ...  SUM(data.envelope_value)  \\\n",
      "ID_State                                 ...                             \n",
      "11_healthy                    -0.640335  ...              27800.125195   \n",
      "11_unhealthy                  -0.279542  ...              77486.606136   \n",
      "13_unhealthy                   0.169077  ...              59083.828911   \n",
      "14_unhealthy                  -0.437118  ...              87612.691937   \n",
      "15_healthy                     1.050831  ...              82283.067784   \n",
      "\n",
      "              SUM(data.numero_patient)  VARIANCE(data.envelope_value)  \\\n",
      "ID_State                                                                \n",
      "11_healthy                    495011.0                       0.001695   \n",
      "11_unhealthy                 1388475.0                       0.000945   \n",
      "13_unhealthy                 1452269.0                       0.002899   \n",
      "14_unhealthy                 2691542.0                       0.002876   \n",
      "15_healthy                   1785195.0                       0.000407   \n",
      "\n",
      "              VARIANCE(data.numero_patient)  DAY(first_data_time)  \\\n",
      "ID_State                                                            \n",
      "11_healthy                              0.0                     1   \n",
      "11_unhealthy                            0.0                     1   \n",
      "13_unhealthy                            0.0                     1   \n",
      "14_unhealthy                            0.0                     1   \n",
      "15_healthy                              0.0                     1   \n",
      "\n",
      "              IS_WEEKEND(first_data_time)  MONTH(first_data_time)  \\\n",
      "ID_State                                                            \n",
      "11_healthy                          False                       1   \n",
      "11_unhealthy                        False                       1   \n",
      "13_unhealthy                        False                       1   \n",
      "14_unhealthy                        False                       1   \n",
      "15_healthy                          False                       1   \n",
      "\n",
      "             WEEKDAY(first_data_time)  YEAR(first_data_time)     Status  \n",
      "ID_State                                                                 \n",
      "11_healthy                          3                   1970    Healthy  \n",
      "11_unhealthy                        3                   1970  Unhealthy  \n",
      "13_unhealthy                        3                   1970  Unhealthy  \n",
      "14_unhealthy                        3                   1970  Unhealthy  \n",
      "15_healthy                          3                   1970    Healthy  \n",
      "\n",
      "[5 rows x 23 columns]\n",
      "*** Feature extraction started ***\n"
     ]
    },
    {
     "name": "stderr",
     "output_type": "stream",
     "text": [
      "C:\\Users\\Firas\\.venvs\\P3\\lib\\site-packages\\woodwork\\logical_types.py:684: FutureWarning: is_categorical_dtype is deprecated and will be removed in a future version. Use isinstance(dtype, CategoricalDtype) instead\n",
      "  if pdtypes.is_categorical_dtype(typed_ser.dtype):\n",
      "C:\\Users\\Firas\\.venvs\\P3\\lib\\site-packages\\woodwork\\logical_types.py:684: FutureWarning: is_categorical_dtype is deprecated and will be removed in a future version. Use isinstance(dtype, CategoricalDtype) instead\n",
      "  if pdtypes.is_categorical_dtype(typed_ser.dtype):\n",
      "C:\\Users\\Firas\\.venvs\\P3\\lib\\site-packages\\woodwork\\logical_types.py:684: FutureWarning: is_categorical_dtype is deprecated and will be removed in a future version. Use isinstance(dtype, CategoricalDtype) instead\n",
      "  if pdtypes.is_categorical_dtype(typed_ser.dtype):\n",
      "C:\\Users\\Firas\\.venvs\\P3\\lib\\site-packages\\woodwork\\logical_types.py:684: FutureWarning: is_categorical_dtype is deprecated and will be removed in a future version. Use isinstance(dtype, CategoricalDtype) instead\n",
      "  if pdtypes.is_categorical_dtype(typed_ser.dtype):\n",
      "C:\\Users\\Firas\\.venvs\\P3\\lib\\site-packages\\woodwork\\logical_types.py:684: FutureWarning: is_categorical_dtype is deprecated and will be removed in a future version. Use isinstance(dtype, CategoricalDtype) instead\n",
      "  if pdtypes.is_categorical_dtype(typed_ser.dtype):\n"
     ]
    },
    {
     "data": {
      "text/html": [
       "\n",
       "              <p>\n",
       "                  Progress: 100% Complete\n",
       "              <p/>\n",
       "              <progress\n",
       "                  value='60'\n",
       "                  max='60',\n",
       "                  style='width: 25%',\n",
       "              >\n",
       "                  60\n",
       "              </progress>\n",
       "\n",
       "    "
      ],
      "text/plain": [
       "<IPython.core.display.HTML object>"
      ]
     },
     "metadata": {},
     "output_type": "display_data"
    },
    {
     "name": "stdout",
     "output_type": "stream",
     "text": [
      "\n",
      "*** Feature extraction finished ***\n",
      "*** Feature extraction started ***\n"
     ]
    },
    {
     "data": {
      "text/html": [
       "\n",
       "              <p>\n",
       "                  Progress: 100% Complete\n",
       "              <p/>\n",
       "              <progress\n",
       "                  value='60'\n",
       "                  max='60',\n",
       "                  style='width: 25%',\n",
       "              >\n",
       "                  60\n",
       "              </progress>\n",
       "\n",
       "    "
      ],
      "text/plain": [
       "<IPython.core.display.HTML object>"
      ]
     },
     "metadata": {},
     "output_type": "display_data"
    },
    {
     "name": "stdout",
     "output_type": "stream",
     "text": [
      "\n",
      "*** Feature extraction finished ***\n",
      "*** Feature extraction started ***\n"
     ]
    },
    {
     "data": {
      "text/html": [
       "\n",
       "              <p>\n",
       "                  Progress: 100% Complete\n",
       "              <p/>\n",
       "              <progress\n",
       "                  value='60'\n",
       "                  max='60',\n",
       "                  style='width: 25%',\n",
       "              >\n",
       "                  60\n",
       "              </progress>\n",
       "\n",
       "    "
      ],
      "text/plain": [
       "<IPython.core.display.HTML object>"
      ]
     },
     "metadata": {},
     "output_type": "display_data"
    },
    {
     "name": "stdout",
     "output_type": "stream",
     "text": [
      "\n",
      "*** Feature extraction finished ***\n",
      "*** Feature extraction started ***\n"
     ]
    },
    {
     "data": {
      "text/html": [
       "\n",
       "              <p>\n",
       "                  Progress: 100% Complete\n",
       "              <p/>\n",
       "              <progress\n",
       "                  value='60'\n",
       "                  max='60',\n",
       "                  style='width: 25%',\n",
       "              >\n",
       "                  60\n",
       "              </progress>\n",
       "\n",
       "    "
      ],
      "text/plain": [
       "<IPython.core.display.HTML object>"
      ]
     },
     "metadata": {},
     "output_type": "display_data"
    },
    {
     "name": "stdout",
     "output_type": "stream",
     "text": [
      "\n",
      "*** Feature extraction finished ***\n",
      "*** Feature extraction started ***\n"
     ]
    },
    {
     "data": {
      "text/html": [
       "\n",
       "              <p>\n",
       "                  Progress: 100% Complete\n",
       "              <p/>\n",
       "              <progress\n",
       "                  value='60'\n",
       "                  max='60',\n",
       "                  style='width: 25%',\n",
       "              >\n",
       "                  60\n",
       "              </progress>\n",
       "\n",
       "    "
      ],
      "text/plain": [
       "<IPython.core.display.HTML object>"
      ]
     },
     "metadata": {},
     "output_type": "display_data"
    },
    {
     "name": "stdout",
     "output_type": "stream",
     "text": [
      "\n",
      "*** Feature extraction finished ***\n",
      "*** Feature extraction started ***\n"
     ]
    },
    {
     "data": {
      "text/html": [
       "\n",
       "              <p>\n",
       "                  Progress: 100% Complete\n",
       "              <p/>\n",
       "              <progress\n",
       "                  value='60'\n",
       "                  max='60',\n",
       "                  style='width: 25%',\n",
       "              >\n",
       "                  60\n",
       "              </progress>\n",
       "\n",
       "    "
      ],
      "text/plain": [
       "<IPython.core.display.HTML object>"
      ]
     },
     "metadata": {},
     "output_type": "display_data"
    },
    {
     "name": "stdout",
     "output_type": "stream",
     "text": [
      "\n",
      "*** Feature extraction finished ***\n",
      "*** Feature extraction started ***\n"
     ]
    },
    {
     "data": {
      "text/html": [
       "\n",
       "              <p>\n",
       "                  Progress: 100% Complete\n",
       "              <p/>\n",
       "              <progress\n",
       "                  value='60'\n",
       "                  max='60',\n",
       "                  style='width: 25%',\n",
       "              >\n",
       "                  60\n",
       "              </progress>\n",
       "\n",
       "    "
      ],
      "text/plain": [
       "<IPython.core.display.HTML object>"
      ]
     },
     "metadata": {},
     "output_type": "display_data"
    },
    {
     "name": "stdout",
     "output_type": "stream",
     "text": [
      "\n",
      "*** Feature extraction finished ***\n",
      "*** Feature extraction started ***\n"
     ]
    },
    {
     "data": {
      "text/html": [
       "\n",
       "              <p>\n",
       "                  Progress: 100% Complete\n",
       "              <p/>\n",
       "              <progress\n",
       "                  value='60'\n",
       "                  max='60',\n",
       "                  style='width: 25%',\n",
       "              >\n",
       "                  60\n",
       "              </progress>\n",
       "\n",
       "    "
      ],
      "text/plain": [
       "<IPython.core.display.HTML object>"
      ]
     },
     "metadata": {},
     "output_type": "display_data"
    },
    {
     "name": "stdout",
     "output_type": "stream",
     "text": [
      "\n",
      "*** Feature extraction finished ***\n",
      "*** Feature extraction started ***\n"
     ]
    },
    {
     "data": {
      "text/html": [
       "\n",
       "              <p>\n",
       "                  Progress: 100% Complete\n",
       "              <p/>\n",
       "              <progress\n",
       "                  value='60'\n",
       "                  max='60',\n",
       "                  style='width: 25%',\n",
       "              >\n",
       "                  60\n",
       "              </progress>\n",
       "\n",
       "    "
      ],
      "text/plain": [
       "<IPython.core.display.HTML object>"
      ]
     },
     "metadata": {},
     "output_type": "display_data"
    },
    {
     "name": "stdout",
     "output_type": "stream",
     "text": [
      "\n",
      "*** Feature extraction finished ***\n",
      "\n",
      "Résultat pour TSFEL:\n",
      "    0_Absolute energy  0_Area under the curve  0_Autocorrelation  \\\n",
      "0       17250.273174            27799.427585       17250.273174   \n",
      "0       47686.520899            77485.981282       47686.520899   \n",
      "0       31572.718225            59083.422358       31572.718225   \n",
      "0       40479.377752            87612.161791       40479.377752   \n",
      "0       56937.163819            82282.326755       56937.163819   \n",
      "\n",
      "   0_Average power    0_Centroid  0_ECDF Percentile Count_0  \\\n",
      "0         0.383339  23303.137328                     9000.0   \n",
      "0         0.377793  64115.489915                    25245.0   \n",
      "0         0.282626  58675.299932                    22342.0   \n",
      "0         0.210554  97823.069520                    38450.0   \n",
      "0         0.478415  59420.907492                    23802.0   \n",
      "\n",
      "   0_ECDF Percentile Count_1  0_ECDF Percentile_0  0_ECDF Percentile_1  \\\n",
      "0                    36000.0             0.589258             0.651871   \n",
      "0                   100980.0             0.587704             0.640169   \n",
      "0                    89370.0             0.480151             0.576673   \n",
      "0                   153802.0             0.439118             0.484132   \n",
      "0                    95210.0             0.675013             0.706988   \n",
      "\n",
      "   0_ECDF_0  ...  0_Wavelet variance_2  0_Wavelet variance_3  \\\n",
      "0  0.000022  ...              0.000799              0.001138   \n",
      "0  0.000008  ...              0.000947              0.001280   \n",
      "0  0.000009  ...              0.000953              0.001431   \n",
      "0  0.000005  ...              0.000719              0.001042   \n",
      "0  0.000008  ...              0.000994              0.001333   \n",
      "\n",
      "   0_Wavelet variance_4  0_Wavelet variance_5  0_Wavelet variance_6  \\\n",
      "0              0.001437              0.001688              0.001899   \n",
      "0              0.001533              0.001739              0.001913   \n",
      "0              0.001858              0.002219              0.002537   \n",
      "0              0.001349              0.001658              0.001967   \n",
      "0              0.001573              0.001760              0.001926   \n",
      "\n",
      "   0_Wavelet variance_7  0_Wavelet variance_8  0_Zero crossing rate  \\\n",
      "0              0.002095              0.002298                   0.0   \n",
      "0              0.002058              0.002180                   0.0   \n",
      "0              0.002856              0.003218                   0.0   \n",
      "0              0.002271              0.002570                   0.0   \n",
      "0              0.002087              0.002245                   0.0   \n",
      "\n",
      "       ID_State     Status  \n",
      "0    11_healthy    Healthy  \n",
      "0  11_unhealthy  Unhealthy  \n",
      "0  13_unhealthy  Unhealthy  \n",
      "0  14_unhealthy  Unhealthy  \n",
      "0    15_healthy    Healthy  \n",
      "\n",
      "[5 rows x 391 columns]\n"
     ]
    }
   ],
   "source": [
    "# Dictionnaire des fonctions d'extraction\n",
    "extract_functions = {\n",
    "    'TS-Fresh': extract_features_ts_fresh,\n",
    "    'Featuretools': extract_features_featuretools,\n",
    "    'TSFEL': extract_features_tsfel\n",
    "}\n",
    "\n",
    "# Appel de la fonction pour extraire les features selon chaque librairie\n",
    "prepare_data_and_extract_features(PROCESSED_FOLDER, LIB_TIMESERIES_CSV_FOLDER, \"all_envelopes.csv\", extract_functions)"
   ]
  },
  {
   "cell_type": "code",
   "execution_count": 4,
   "id": "01ef1e9c-3d5a-40de-8d71-09acf87f8b72",
   "metadata": {},
   "outputs": [
    {
     "name": "stdout",
     "output_type": "stream",
     "text": [
      "\n",
      "Résultats pour Perceptron_Featuretools.pickle sur featuretools_features.csv:\n",
      "              precision    recall  f1-score   support\n",
      "\n",
      "     Healthy       0.50      0.33      0.40         3\n",
      "   Unhealthy       0.71      0.83      0.77         6\n",
      "\n",
      "    accuracy                           0.67         9\n",
      "   macro avg       0.61      0.58      0.58         9\n",
      "weighted avg       0.64      0.67      0.65         9\n",
      "\n",
      "\n",
      "Résultats pour RandomForest_Featuretools.pickle sur featuretools_features.csv:\n",
      "              precision    recall  f1-score   support\n",
      "\n",
      "     Healthy       0.50      0.33      0.40         3\n",
      "   Unhealthy       0.71      0.83      0.77         6\n",
      "\n",
      "    accuracy                           0.67         9\n",
      "   macro avg       0.61      0.58      0.58         9\n",
      "weighted avg       0.64      0.67      0.65         9\n",
      "\n",
      "\n",
      "Résultats pour SVC_Featuretools.pickle sur featuretools_features.csv:\n",
      "              precision    recall  f1-score   support\n",
      "\n",
      "     Healthy       0.00      0.00      0.00         3\n",
      "   Unhealthy       0.67      1.00      0.80         6\n",
      "\n",
      "    accuracy                           0.67         9\n",
      "   macro avg       0.33      0.50      0.40         9\n",
      "weighted avg       0.44      0.67      0.53         9\n",
      "\n",
      "\n",
      "Résultats pour Perceptron_TSFEL.pickle sur tsfel_features.csv:\n",
      "              precision    recall  f1-score   support\n",
      "\n",
      "     Healthy       0.50      0.67      0.57         3\n",
      "   Unhealthy       0.80      0.67      0.73         6\n",
      "\n",
      "    accuracy                           0.67         9\n",
      "   macro avg       0.65      0.67      0.65         9\n",
      "weighted avg       0.70      0.67      0.68         9\n",
      "\n",
      "\n",
      "Résultats pour RandomForest_TSFEL.pickle sur tsfel_features.csv:\n",
      "              precision    recall  f1-score   support\n",
      "\n",
      "     Healthy       0.67      0.67      0.67         3\n",
      "   Unhealthy       0.83      0.83      0.83         6\n",
      "\n",
      "    accuracy                           0.78         9\n",
      "   macro avg       0.75      0.75      0.75         9\n",
      "weighted avg       0.78      0.78      0.78         9\n",
      "\n",
      "\n",
      "Résultats pour SVC_TSFEL.pickle sur tsfel_features.csv:\n",
      "              precision    recall  f1-score   support\n",
      "\n",
      "     Healthy       0.00      0.00      0.00         3\n",
      "   Unhealthy       0.67      1.00      0.80         6\n",
      "\n",
      "    accuracy                           0.67         9\n",
      "   macro avg       0.33      0.50      0.40         9\n",
      "weighted avg       0.44      0.67      0.53         9\n",
      "\n",
      "\n",
      "Résultats pour Perceptron_TS-Fresh.pickle sur ts_fresh_features.csv:\n",
      "              precision    recall  f1-score   support\n",
      "\n",
      "     Healthy       0.40      0.67      0.50         3\n",
      "   Unhealthy       0.75      0.50      0.60         6\n",
      "\n",
      "    accuracy                           0.56         9\n",
      "   macro avg       0.57      0.58      0.55         9\n",
      "weighted avg       0.63      0.56      0.57         9\n",
      "\n",
      "\n",
      "Résultats pour RandomForest_TS-Fresh.pickle sur ts_fresh_features.csv:\n",
      "              precision    recall  f1-score   support\n",
      "\n",
      "     Healthy       0.67      0.67      0.67         3\n",
      "   Unhealthy       0.83      0.83      0.83         6\n",
      "\n",
      "    accuracy                           0.78         9\n",
      "   macro avg       0.75      0.75      0.75         9\n",
      "weighted avg       0.78      0.78      0.78         9\n",
      "\n",
      "\n",
      "Résultats pour SVC_TS-Fresh.pickle sur ts_fresh_features.csv:\n",
      "              precision    recall  f1-score   support\n",
      "\n",
      "     Healthy       0.00      0.00      0.00         3\n",
      "   Unhealthy       0.67      1.00      0.80         6\n",
      "\n",
      "    accuracy                           0.67         9\n",
      "   macro avg       0.33      0.50      0.40         9\n",
      "weighted avg       0.44      0.67      0.53         9\n",
      "\n"
     ]
    },
    {
     "name": "stderr",
     "output_type": "stream",
     "text": [
      "C:\\Users\\Firas\\.venvs\\P3\\lib\\site-packages\\sklearn\\metrics\\_classification.py:1471: UndefinedMetricWarning: Precision and F-score are ill-defined and being set to 0.0 in labels with no predicted samples. Use `zero_division` parameter to control this behavior.\n",
      "  _warn_prf(average, modifier, msg_start, len(result))\n",
      "C:\\Users\\Firas\\.venvs\\P3\\lib\\site-packages\\sklearn\\metrics\\_classification.py:1471: UndefinedMetricWarning: Precision and F-score are ill-defined and being set to 0.0 in labels with no predicted samples. Use `zero_division` parameter to control this behavior.\n",
      "  _warn_prf(average, modifier, msg_start, len(result))\n",
      "C:\\Users\\Firas\\.venvs\\P3\\lib\\site-packages\\sklearn\\metrics\\_classification.py:1471: UndefinedMetricWarning: Precision and F-score are ill-defined and being set to 0.0 in labels with no predicted samples. Use `zero_division` parameter to control this behavior.\n",
      "  _warn_prf(average, modifier, msg_start, len(result))\n",
      "C:\\Users\\Firas\\.venvs\\P3\\lib\\site-packages\\sklearn\\metrics\\_classification.py:1471: UndefinedMetricWarning: Precision and F-score are ill-defined and being set to 0.0 in labels with no predicted samples. Use `zero_division` parameter to control this behavior.\n",
      "  _warn_prf(average, modifier, msg_start, len(result))\n",
      "C:\\Users\\Firas\\.venvs\\P3\\lib\\site-packages\\sklearn\\metrics\\_classification.py:1471: UndefinedMetricWarning: Precision and F-score are ill-defined and being set to 0.0 in labels with no predicted samples. Use `zero_division` parameter to control this behavior.\n",
      "  _warn_prf(average, modifier, msg_start, len(result))\n",
      "C:\\Users\\Firas\\.venvs\\P3\\lib\\site-packages\\sklearn\\metrics\\_classification.py:1471: UndefinedMetricWarning: Precision and F-score are ill-defined and being set to 0.0 in labels with no predicted samples. Use `zero_division` parameter to control this behavior.\n",
      "  _warn_prf(average, modifier, msg_start, len(result))\n",
      "C:\\Users\\Firas\\.venvs\\P3\\lib\\site-packages\\sklearn\\metrics\\_classification.py:1471: UndefinedMetricWarning: Precision and F-score are ill-defined and being set to 0.0 in labels with no predicted samples. Use `zero_division` parameter to control this behavior.\n",
      "  _warn_prf(average, modifier, msg_start, len(result))\n",
      "C:\\Users\\Firas\\.venvs\\P3\\lib\\site-packages\\sklearn\\metrics\\_classification.py:1471: UndefinedMetricWarning: Precision and F-score are ill-defined and being set to 0.0 in labels with no predicted samples. Use `zero_division` parameter to control this behavior.\n",
      "  _warn_prf(average, modifier, msg_start, len(result))\n",
      "C:\\Users\\Firas\\.venvs\\P3\\lib\\site-packages\\sklearn\\metrics\\_classification.py:1471: UndefinedMetricWarning: Precision and F-score are ill-defined and being set to 0.0 in labels with no predicted samples. Use `zero_division` parameter to control this behavior.\n",
      "  _warn_prf(average, modifier, msg_start, len(result))\n"
     ]
    }
   ],
   "source": [
    "#Évaluation des modèles enregistrés sur les données de test\n",
    "\n",
    "evaluate_models_on_csv(LIB_TIMESERIES_CSV_FOLDER, MODEL_FOLDER)"
   ]
  }
 ],
 "metadata": {
  "kernelspec": {
   "display_name": "Python 3 (ipykernel)",
   "language": "python",
   "name": "python3"
  },
  "language_info": {
   "codemirror_mode": {
    "name": "ipython",
    "version": 3
   },
   "file_extension": ".py",
   "mimetype": "text/x-python",
   "name": "python",
   "nbconvert_exporter": "python",
   "pygments_lexer": "ipython3",
   "version": "3.10.11"
  }
 },
 "nbformat": 4,
 "nbformat_minor": 5
}
