{
 "cells": [
  {
   "cell_type": "code",
   "execution_count": 5,
   "id": "60ee1b9f-e6d5-477c-9c9a-10cb153ad86b",
   "metadata": {},
   "outputs": [],
   "source": [
    "import os\n",
    "import shutil\n",
    "from random import shuffle\n",
    "import numpy as np\n",
    "import re\n",
    "import gc\n",
    "import sys\n",
    "sys.path.append('../src')  \n",
    "from config import DATA_FOLDER, RAW_FOLDER, INTERIM_FOLDER, PROCESSED_FOLDER, MODEL_FOLDER, LIB_TIMESERIES_CSV_FOLDER, TRAIN_FOLDER, TEST_FOLDER\n"
   ]
  },
  {
   "cell_type": "code",
   "execution_count": null,
   "id": "56c4ae8b-e5eb-493f-9487-581f8a231bcc",
   "metadata": {},
   "outputs": [],
   "source": [
    "def create_directory(directory):\n",
    "    if not os.path.exists(directory):\n",
    "        os.makedirs(directory)\n",
    "\n",
    "for folder in [TRAIN_FOLDER, TEST_FOLDER]:\n",
    "    create_directory(folder)\n",
    "\n",
    "# Récupérer tous les fichiers du dossier raw\n",
    "all_files = [f for f in os.listdir(RAW_FOLDER) if os.path.isfile(os.path.join(RAW_FOLDER, f))]\n",
    "np.random.shuffle(all_files)  # Mélanger les fichiers de manière aléatoire\n",
    "\n",
    "# Calculer l'indice de séparation pour l'ensemble de formation\n",
    "train_split = int(0.8 * len(all_files))\n",
    "\n",
    "# Répartir les fichiers\n",
    "train_files = all_files[:train_split]\n",
    "test_files = all_files[train_split:]\n",
    "\n",
    "# Fonction pour copier les fichiers\n",
    "def copy_files(files, destination):\n",
    "    for f in files:\n",
    "        shutil.copy(os.path.join(RAW_FOLDER, f), destination)\n",
    "\n",
    "# Copier les fichiers dans les dossiers correspondants\n",
    "copy_files(train_files, TRAIN_FOLDER)\n",
    "copy_files(test_files, TEST_FOLDER)"
   ]
  }
 ],
 "metadata": {
  "kernelspec": {
   "display_name": "Python 3 (ipykernel)",
   "language": "python",
   "name": "python3"
  },
  "language_info": {
   "codemirror_mode": {
    "name": "ipython",
    "version": 3
   },
   "file_extension": ".py",
   "mimetype": "text/x-python",
   "name": "python",
   "nbconvert_exporter": "python",
   "pygments_lexer": "ipython3",
   "version": "3.10.11"
  }
 },
 "nbformat": 4,
 "nbformat_minor": 5
}
